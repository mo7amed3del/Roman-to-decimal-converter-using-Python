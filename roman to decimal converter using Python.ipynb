{
 "cells": [
  {
   "cell_type": "code",
   "execution_count": 1,
   "id": "5eb020a2",
   "metadata": {},
   "outputs": [],
   "source": [
    "roman_dict ={'I': 1, 'V': 5,\n",
    "             'X': 10, 'L': 50,\n",
    "             'C': 100, 'D': 500,\n",
    "             'M': 1000}"
   ]
  },
  {
   "cell_type": "code",
   "execution_count": 2,
   "id": "33f32f37",
   "metadata": {},
   "outputs": [],
   "source": [
    "def decimal(roman):\n",
    "    \"\"\"\n",
    "    roman: a string or roman numerals.\n",
    "    Returns the equivalent in decimal numbers (int).\n",
    "    \"\"\"\n",
    "    global roman_dict\n",
    "    # Analyze string backwards\n",
    "    roman_back = list(reversed(list(roman)))  \n",
    "    value = 0\n",
    "    # To keep track of order\n",
    "    right_val = roman_dict[roman_back[0]]  \n",
    "    for numeral in roman_back:\n",
    "        left_val = roman_dict[numeral]\n",
    "        # Check for subtraction\n",
    "        if left_val < right_val:\n",
    "           value -= left_val\n",
    "        else:\n",
    "            value += left_val\n",
    "        right_val = left_val\n",
    "    return value"
   ]
  },
  {
   "cell_type": "code",
   "execution_count": 3,
   "id": "ae79bd3a",
   "metadata": {},
   "outputs": [
    {
     "name": "stdout",
     "output_type": "stream",
     "text": [
      "9\n"
     ]
    }
   ],
   "source": [
    "print(decimal(\"IX\"))"
   ]
  },
  {
   "cell_type": "code",
   "execution_count": null,
   "id": "612dc1ab",
   "metadata": {},
   "outputs": [],
   "source": []
  }
 ],
 "metadata": {
  "kernelspec": {
   "display_name": "Python 3",
   "language": "python",
   "name": "python3"
  },
  "language_info": {
   "codemirror_mode": {
    "name": "ipython",
    "version": 3
   },
   "file_extension": ".py",
   "mimetype": "text/x-python",
   "name": "python",
   "nbconvert_exporter": "python",
   "pygments_lexer": "ipython3",
   "version": "3.7.10"
  }
 },
 "nbformat": 4,
 "nbformat_minor": 5
}
